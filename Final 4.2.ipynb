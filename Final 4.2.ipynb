{
 "cells": [
  {
   "cell_type": "markdown",
   "id": "90b7b2ac",
   "metadata": {},
   "source": [
    "**Importing required libraries**"
   ]
  },
  {
   "cell_type": "code",
   "execution_count": 1,
   "id": "d487adbb",
   "metadata": {},
   "outputs": [],
   "source": [
    "# Imporing the required library and reading in the data we want to work with\n",
    "import pandas as pd\n",
    "import math\n",
    "import random"
   ]
  },
  {
   "cell_type": "markdown",
   "id": "793f693c",
   "metadata": {},
   "source": [
    "# Functions"
   ]
  },
  {
   "cell_type": "markdown",
   "id": "83bf1017",
   "metadata": {},
   "source": [
    "**y_end()** function takes a dictionary as an argument which is expected to have one 'y' as a key and returns the same dictionary by placing that key and it's value to the end. This will make job easier for another function that calculates the output (y and hi)."
   ]
  },
  {
   "cell_type": "code",
   "execution_count": 2,
   "id": "3b19ca42",
   "metadata": {},
   "outputs": [],
   "source": [
    "def y_end(d):\n",
    "    y_val = d.pop(\"y\")\n",
    "    d[\"y\"] = y_val\n",
    "    return d"
   ]
  },
  {
   "cell_type": "markdown",
   "id": "62235db7",
   "metadata": {},
   "source": [
    "**values()** takes in two dictionaries, first is the input data and second the weights. The input data has the input value for the input layer of the network and is used to calculate the values of hidden layers (the hs) using the weights. These values of the hidden layers are then used with their respective weights to calculate the final output(y). Only after calculating each value for the hidden layer we proceed towards the output layer. This is the reason why we wanted to put 'y' at the end of the dictionary. In each iteration, we calculate the value of each hidden layer/s and append the dictionary and after all the values of the hidden layer is calculated and populated in *vals*, we use that *vals* dictionary to calculate the value of 'y' and finally append that value also to the same dictionary before returning it."
   ]
  },
  {
   "cell_type": "code",
   "execution_count": 3,
   "id": "9f75d3ac",
   "metadata": {},
   "outputs": [],
   "source": [
    "def values(data, weight):\n",
    "    weight = y_end(weight)\n",
    "    vals = {}\n",
    "    for i in weight:\n",
    "        if i != \"y\":\n",
    "            s = weight[i][\"b0\"]\n",
    "            for j in data:\n",
    "                if j != \"b0\":\n",
    "                    s = s + data[j]*weight[i][j]\n",
    "            vals[i] = round(1/(1+math.exp(-s)), 3)\n",
    "        \n",
    "        else:\n",
    "            s = weight[i][\"b1\"]\n",
    "            for j in vals:\n",
    "                if j != \"b1\":\n",
    "                    s = s + vals[j]*weight[i][j]\n",
    "            vals[i] = round(1/(1+math.exp(-s)), 3)\n",
    "    return vals"
   ]
  },
  {
   "cell_type": "markdown",
   "id": "19bb6c5b",
   "metadata": {},
   "source": [
    "**total_error()** function takes the value of y from the dictionary returned by **values()** as first argument and target value as the second argument. This function then calculatess the total error in the network and returns it."
   ]
  },
  {
   "cell_type": "code",
   "execution_count": 4,
   "id": "05c4f118",
   "metadata": {},
   "outputs": [],
   "source": [
    "def total_error(y, t):\n",
    "    return round(0.5*(t-y)**2, 3)"
   ]
  },
  {
   "cell_type": "markdown",
   "id": "19475091",
   "metadata": {},
   "source": [
    "**individual_errors()** is a function that calculates and returns the error for the output(y) and the error for each hidden units (hs). We have three arguments in the function, one is the dictionary that is returned by **values()**, another is the same dictionary of weights and lastly the target value. To calculate the errors for each hidden units we need to first calculate the error for the output. So, from our dictionary which is passed as the first argument in the function, we want to get 'y' first.\n",
    "\n",
    "Since we appended the output value of 'y' at the end in the **values()** function, we have 'y' at the end in *result*. This is why, while looping, we want to get the last value of the dictionary and calculate the error of that output. After calculation we append that value of the error to *errors* dictionary and we calculate the errors of the hidden units accessing the value of error for the output. The errors of each hidden unit gets appended to *errors* in each iteration.\n",
    "\n",
    "Finally the dictionary containing error for the output, and for each of the hidden units is returned by the function."
   ]
  },
  {
   "cell_type": "code",
   "execution_count": 5,
   "id": "33797229",
   "metadata": {},
   "outputs": [],
   "source": [
    "def individual_errors(result, weights, t):\n",
    "    errors = {}\n",
    "    for i in range(len(result)-1, -1, -1):\n",
    "        temp = list(result.keys())[i]\n",
    "        if temp == 'y':\n",
    "            errors[temp] = round(result[temp]*(1-result[temp])*(t - result[temp]), 3)\n",
    "        else:\n",
    "            errors[temp] = round(result[temp]*(1-result[temp])*(weights[\"y\"][temp] * errors[\"y\"]), 3)\n",
    "    return errors"
   ]
  },
  {
   "cell_type": "markdown",
   "id": "f4e07bbb",
   "metadata": {},
   "source": [
    "**learn()** takes the input values, weights, the returned dictionary of **values()** and the individual errors dictionary returned by **individual_errors()** as four arguments and returns a dictionary that is similar in format as the weights dictionary that gets passed as the argument. This is because the idea is to update the weights that we passed and return new weights. \n",
    "\n",
    "First we loop through each output units we have (the actual output and the hidden units). Then within each of these iterations, we calculate the updated weights for all the nodes that reach to that output unit. Since the value for hidden units and inputs are in two different dictionaries, we use try and except statements to access their values. For each 'i' we get one dictionary and we append each of these dictionaries to the *updated_weight* dictionary before returning it."
   ]
  },
  {
   "cell_type": "code",
   "execution_count": 6,
   "id": "69191dbe",
   "metadata": {},
   "outputs": [],
   "source": [
    "def learn(inputs, weights, result, ind_errs):\n",
    "    updated_weights = {}\n",
    "    for i in ind_errs:\n",
    "        updated = {}\n",
    "        for j in weights[i]:\n",
    "            if j == \"b1\":\n",
    "                updated[j] = round(weights[i][j] + (0.5 * ind_errs[i] * 1), 3)\n",
    "            else:\n",
    "                try:\n",
    "                    updated[j] = round(weights[i][j] + (0.5 * ind_errs[i] * result[j]), 3)\n",
    "                except KeyError:\n",
    "                    updated[j] = round(weights[i][j] + (0.5 * ind_errs[i] * inputs[j]), 3)\n",
    "        updated_weights[i] = updated\n",
    "    return(updated_weights)"
   ]
  },
  {
   "cell_type": "markdown",
   "id": "c30f3da5",
   "metadata": {},
   "source": [
    "All of these functions could have been incorporated in a couple of functions but we decided to split them into all these to make it easier for documentation and to display each calculations."
   ]
  },
  {
   "cell_type": "code",
   "execution_count": 7,
   "id": "9ba576ae",
   "metadata": {},
   "outputs": [],
   "source": [
    "inputs = {\"i1\": 0, \"i2\": 1, \"b0\" : 1}\n",
    "weights = {\"h1\": {\"b0\": 1, \"i1\": 1, \"i2\": 0.5}, \"h2\": {\"b0\": 1, \"i1\": -1, \"i2\": 2}, \"y\" : {\"b1\": 1, \"h1\": 1.5, \"h2\": -1}}"
   ]
  },
  {
   "cell_type": "markdown",
   "id": "a0a2e2f2",
   "metadata": {},
   "source": [
    "The two dictionaries 'inputs' and 'weights' hold the input values and weight values from the tutorial. Using the **values()** function we *feed the inputs forward* and check the total error of the model using the **total_error()** function. \n",
    "\n",
    "We can further reduce the error if we *backpropagate the errors* to go back and adjust the weights. We calculate the individual error of the output and hidden units with the **individual_errors()** function and use these errors to update the weights with the **learn()** function. \n",
    "\n",
    "After executing the **learn()** function, we get the updated weights which we can then use to recalulate the value of y and to check the network error which should now be less than what we had before.\n",
    "\n",
    "We can repeat this process multiple times in an effort to reduce the error and get new weights value that can better predict the output."
   ]
  },
  {
   "cell_type": "code",
   "execution_count": 8,
   "id": "b650294d",
   "metadata": {},
   "outputs": [
    {
     "data": {
      "text/plain": [
       "{'h1': 0.818, 'h2': 0.953, 'y': 0.781}"
      ]
     },
     "execution_count": 8,
     "metadata": {},
     "output_type": "execute_result"
    }
   ],
   "source": [
    "result = values(inputs,weights)\n",
    "result"
   ]
  },
  {
   "cell_type": "code",
   "execution_count": 9,
   "id": "dce1c228",
   "metadata": {},
   "outputs": [
    {
     "data": {
      "text/plain": [
       "0.024"
      ]
     },
     "execution_count": 9,
     "metadata": {},
     "output_type": "execute_result"
    }
   ],
   "source": [
    "totals = total_error(result['y'], 1)\n",
    "totals"
   ]
  },
  {
   "cell_type": "code",
   "execution_count": 10,
   "id": "ab1909c7",
   "metadata": {},
   "outputs": [
    {
     "data": {
      "text/plain": [
       "{'y': 0.037, 'h2': -0.002, 'h1': 0.008}"
      ]
     },
     "execution_count": 10,
     "metadata": {},
     "output_type": "execute_result"
    }
   ],
   "source": [
    "ind_errs = individual_errors(result, weights, 1)\n",
    "ind_errs"
   ]
  },
  {
   "cell_type": "code",
   "execution_count": 11,
   "id": "4f1651a9",
   "metadata": {},
   "outputs": [
    {
     "data": {
      "text/plain": [
       "{'y': {'b1': 1.018, 'h1': 1.515, 'h2': -0.982},\n",
       " 'h2': {'b0': 0.999, 'i1': -1.0, 'i2': 1.999},\n",
       " 'h1': {'b0': 1.004, 'i1': 1.0, 'i2': 0.504}}"
      ]
     },
     "execution_count": 11,
     "metadata": {},
     "output_type": "execute_result"
    }
   ],
   "source": [
    "weights = learn(inputs, weights, result, ind_errs)\n",
    "weights"
   ]
  },
  {
   "cell_type": "markdown",
   "id": "4d6520c6",
   "metadata": {},
   "source": [
    "The above code chunk gave us the updated weights which reduces the total network error. Let's check it by using the updated weights to the same input and target data."
   ]
  },
  {
   "cell_type": "code",
   "execution_count": 12,
   "id": "f0cb5fd3",
   "metadata": {},
   "outputs": [
    {
     "name": "stdout",
     "output_type": "stream",
     "text": [
      "{'h2': 0.952, 'h1': 0.819, 'y': 0.79}\n",
      "0.022\n"
     ]
    }
   ],
   "source": [
    "result = values(inputs,weights)\n",
    "totals = total_error(result['y'], 1)\n",
    "ind_errs = individual_errors(result, weights, 1)\n",
    "weights = learn(inputs, weights, result, ind_errs)\n",
    "print(result)\n",
    "print(totals)"
   ]
  },
  {
   "cell_type": "markdown",
   "id": "b3e4b55e",
   "metadata": {},
   "source": [
    "As we can see, the value of y has gotten closer to 1 and the error has also reduced from 0.024 to 0.022."
   ]
  },
  {
   "cell_type": "code",
   "execution_count": null,
   "id": "afecb75a",
   "metadata": {},
   "outputs": [],
   "source": []
  }
 ],
 "metadata": {
  "kernelspec": {
   "display_name": "Python 3 (ipykernel)",
   "language": "python",
   "name": "python3"
  },
  "language_info": {
   "codemirror_mode": {
    "name": "ipython",
    "version": 3
   },
   "file_extension": ".py",
   "mimetype": "text/x-python",
   "name": "python",
   "nbconvert_exporter": "python",
   "pygments_lexer": "ipython3",
   "version": "3.9.12"
  }
 },
 "nbformat": 4,
 "nbformat_minor": 5
}
